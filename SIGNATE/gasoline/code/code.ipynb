{
 "cells": [
  {
   "cell_type": "code",
   "execution_count": 71,
   "metadata": {},
   "outputs": [],
   "source": [
    "import os\n",
    "import pandas as pd\n",
    "import pandas_profiling as pdp\n",
    "import matplotlib.pyplot as plt\n",
    "import seaborn as sns\n",
    "import random\n",
    "import numpy as np\n",
    "import tensorflow as tf\n",
    "from sklearn import preprocessing\n",
    "%matplotlib inline\n",
    "np.set_printoptions(precision=3)\n",
    "pd.options.display.precision = 3"
   ]
  },
  {
   "cell_type": "code",
   "execution_count": 243,
   "metadata": {},
   "outputs": [
    {
     "data": {
      "text/html": [
       "<div>\n",
       "<style scoped>\n",
       "    .dataframe tbody tr th:only-of-type {\n",
       "        vertical-align: middle;\n",
       "    }\n",
       "\n",
       "    .dataframe tbody tr th {\n",
       "        vertical-align: top;\n",
       "    }\n",
       "\n",
       "    .dataframe thead th {\n",
       "        text-align: right;\n",
       "    }\n",
       "</style>\n",
       "<table border=\"1\" class=\"dataframe\">\n",
       "  <thead>\n",
       "    <tr style=\"text-align: right;\">\n",
       "      <th></th>\n",
       "      <th>id</th>\n",
       "      <th>mpg</th>\n",
       "      <th>cylinders</th>\n",
       "      <th>displacement</th>\n",
       "      <th>horsepower</th>\n",
       "      <th>weight</th>\n",
       "      <th>acceleration</th>\n",
       "      <th>model year</th>\n",
       "      <th>origin</th>\n",
       "      <th>car name</th>\n",
       "    </tr>\n",
       "  </thead>\n",
       "  <tbody>\n",
       "    <tr>\n",
       "      <th>0</th>\n",
       "      <td>0</td>\n",
       "      <td>23.060</td>\n",
       "      <td>6</td>\n",
       "      <td>140</td>\n",
       "      <td>110</td>\n",
       "      <td>2815</td>\n",
       "      <td>17.977</td>\n",
       "      <td>80</td>\n",
       "      <td>1</td>\n",
       "      <td>dodge aspen</td>\n",
       "    </tr>\n",
       "    <tr>\n",
       "      <th>1</th>\n",
       "      <td>3</td>\n",
       "      <td>17.675</td>\n",
       "      <td>8</td>\n",
       "      <td>350</td>\n",
       "      <td>150</td>\n",
       "      <td>4456</td>\n",
       "      <td>13.515</td>\n",
       "      <td>72</td>\n",
       "      <td>1</td>\n",
       "      <td>dodge rampage</td>\n",
       "    </tr>\n",
       "    <tr>\n",
       "      <th>2</th>\n",
       "      <td>4</td>\n",
       "      <td>17.136</td>\n",
       "      <td>8</td>\n",
       "      <td>302</td>\n",
       "      <td>140</td>\n",
       "      <td>2774</td>\n",
       "      <td>13.210</td>\n",
       "      <td>79</td>\n",
       "      <td>1</td>\n",
       "      <td>mercury cougar brougham</td>\n",
       "    </tr>\n",
       "    <tr>\n",
       "      <th>3</th>\n",
       "      <td>7</td>\n",
       "      <td>22.665</td>\n",
       "      <td>6</td>\n",
       "      <td>400</td>\n",
       "      <td>85</td>\n",
       "      <td>2190</td>\n",
       "      <td>15.196</td>\n",
       "      <td>71</td>\n",
       "      <td>1</td>\n",
       "      <td>pontiac j2000 se hatchback</td>\n",
       "    </tr>\n",
       "    <tr>\n",
       "      <th>4</th>\n",
       "      <td>9</td>\n",
       "      <td>17.872</td>\n",
       "      <td>8</td>\n",
       "      <td>429</td>\n",
       "      <td>220</td>\n",
       "      <td>2245</td>\n",
       "      <td>9.621</td>\n",
       "      <td>70</td>\n",
       "      <td>1</td>\n",
       "      <td>ford galaxie 500</td>\n",
       "    </tr>\n",
       "  </tbody>\n",
       "</table>\n",
       "</div>"
      ],
      "text/plain": [
       "   id     mpg  cylinders  displacement horsepower  weight  acceleration  \\\n",
       "0   0  23.060          6           140        110    2815        17.977   \n",
       "1   3  17.675          8           350        150    4456        13.515   \n",
       "2   4  17.136          8           302        140    2774        13.210   \n",
       "3   7  22.665          6           400         85    2190        15.196   \n",
       "4   9  17.872          8           429        220    2245         9.621   \n",
       "\n",
       "   model year  origin                    car name  \n",
       "0          80       1                 dodge aspen  \n",
       "1          72       1               dodge rampage  \n",
       "2          79       1     mercury cougar brougham  \n",
       "3          71       1  pontiac j2000 se hatchback  \n",
       "4          70       1            ford galaxie 500  "
      ]
     },
     "execution_count": 243,
     "metadata": {},
     "output_type": "execute_result"
    }
   ],
   "source": [
    "train_data = \"train.csv\"\n",
    "test_data = \"test.csv\"\n",
    "train_df, test_df = pd.read_csv(train_data), pd.read_csv(test_data)\n",
    "train_df.head()"
   ]
  },
  {
   "cell_type": "code",
   "execution_count": 244,
   "metadata": {},
   "outputs": [
    {
     "data": {
      "application/vnd.jupyter.widget-view+json": {
       "model_id": "9f1ef24fe67745e6b7dbce051258a5dd",
       "version_major": 2,
       "version_minor": 0
      },
      "text/plain": [
       "HBox(children=(HTML(value='Summarize dataset'), FloatProgress(value=0.0, max=24.0), HTML(value='')))"
      ]
     },
     "metadata": {},
     "output_type": "display_data"
    },
    {
     "name": "stdout",
     "output_type": "stream",
     "text": [
      "\n"
     ]
    },
    {
     "data": {
      "application/vnd.jupyter.widget-view+json": {
       "model_id": "deaaf90664a440a6b2cdfcb3679cb745",
       "version_major": 2,
       "version_minor": 0
      },
      "text/plain": [
       "HBox(children=(HTML(value='Generate report structure'), FloatProgress(value=0.0, max=1.0), HTML(value='')))"
      ]
     },
     "metadata": {},
     "output_type": "display_data"
    },
    {
     "name": "stdout",
     "output_type": "stream",
     "text": [
      "\n"
     ]
    },
    {
     "data": {
      "application/vnd.jupyter.widget-view+json": {
       "model_id": "1309a4215fae4f73b837a64352ae86cb",
       "version_major": 2,
       "version_minor": 0
      },
      "text/plain": [
       "HBox(children=(HTML(value='Render HTML'), FloatProgress(value=0.0, max=1.0), HTML(value='')))"
      ]
     },
     "metadata": {},
     "output_type": "display_data"
    },
    {
     "name": "stdout",
     "output_type": "stream",
     "text": [
      "\n"
     ]
    },
    {
     "data": {
      "application/vnd.jupyter.widget-view+json": {
       "model_id": "6def60a7c08d4a0c82be3c8cad5a83f5",
       "version_major": 2,
       "version_minor": 0
      },
      "text/plain": [
       "HBox(children=(HTML(value='Export report to file'), FloatProgress(value=0.0, max=1.0), HTML(value='')))"
      ]
     },
     "metadata": {},
     "output_type": "display_data"
    },
    {
     "name": "stdout",
     "output_type": "stream",
     "text": [
      "\n"
     ]
    }
   ],
   "source": [
    "profile = pdp.ProfileReport(train_df)\n",
    "profile.to_file(\"myoutputfile.html\")"
   ]
  },
  {
   "cell_type": "code",
   "execution_count": 286,
   "metadata": {},
   "outputs": [],
   "source": [
    "def CreateLabelencodingFeatures(input_df: pd.DataFrame) -> pd.DataFrame:\n",
    "    use_columns = [\n",
    "        'horsepower',\n",
    "        'car name',\n",
    "    ]\n",
    "    le_res = pd.DataFrame()\n",
    "    for c in use_columns:\n",
    "        le = preprocessing.LabelEncoder()\n",
    "        le.fit(input_df[c])\n",
    "        le_res[c] = le.transform(input_df[c])\n",
    "    return le_res.copy().add_prefix(\"CL_\")"
   ]
  },
  {
   "cell_type": "code",
   "execution_count": 287,
   "metadata": {},
   "outputs": [],
   "source": [
    "def CreateOnehotEncodingFeatures(input_df: pd.DataFrame) -> pd.DataFrame:\n",
    "    use_columns = [\n",
    "        'origin', \n",
    "        'cylinders',\n",
    "        'model year',\n",
    "    ]\n",
    "    oh_res = pd.DataFrame()\n",
    "    for c in use_columns:\n",
    "        series = input_df[c]\n",
    "        cat = pd.Categorical(series, categories=input_df[c].dropna().unique())\n",
    "        _df = pd.get_dummies(cat)\n",
    "        _df.columns = _df.columns.tolist()\n",
    "        _df = _df.add_prefix(c + '=')\n",
    "        oh_res = pd.concat([oh_res.copy(), _df], axis=1)\n",
    "\n",
    "    return oh_res.add_prefix('OH_')"
   ]
  },
  {
   "cell_type": "code",
   "execution_count": 288,
   "metadata": {},
   "outputs": [],
   "source": [
    "def CreateCountEncodingFeatures(input_df: pd.DataFrame) -> pd.DataFrame:\n",
    "    use_columns = [\n",
    "        'displacement',\n",
    "        'weight',\n",
    "        'acceleration',\n",
    "    ]\n",
    "    res_ce = pd.DataFrame()\n",
    "    for c in use_columns:\n",
    "        series = input_df[c]\n",
    "        vc = series.value_counts(dropna=False)\n",
    "        _df = pd.DataFrame(input_df[c].map(vc))\n",
    "        res_ce = pd.concat([res_ce, _df], axis=1)\n",
    "    return res_ce.copy().add_prefix('CE_')"
   ]
  },
  {
   "cell_type": "code",
   "execution_count": 289,
   "metadata": {},
   "outputs": [],
   "source": [
    "def CreateHashEncodingFeatures(input_df: pd.DataFrame, digits: int) -> pd.DataFrame:\n",
    "    use_columns = [\n",
    "        '', '', ''\n",
    "    ]\n",
    "    res_hash = pd.DataFrame()\n",
    "    for c in use_columns:\n",
    "        ce = preprocessing.HashingEncoder(cols = input_df[c], n_components = digits)\n",
    "        ce.fit(input_df[c])\n",
    "        res_hash = ce.transform(input_df[c])\n",
    "        \n",
    "    return res_hash.add_prefix(\"HE_\")"
   ]
  },
  {
   "cell_type": "code",
   "execution_count": 290,
   "metadata": {},
   "outputs": [],
   "source": [
    "def CreateContinuousFeatures(input_df: pd.DataFrame) -> pd.DataFrame:\n",
    "    use_columns = [\n",
    "#         'id',  \n",
    "#         'model year',\n",
    "#         'origin'\n",
    "    ]\n",
    "    return input_df[use_columns].copy()"
   ]
  },
  {
   "cell_type": "code",
   "execution_count": 291,
   "metadata": {},
   "outputs": [],
   "source": [
    "from contextlib import contextmanager\n",
    "from time import time\n",
    "\n",
    "@contextmanager\n",
    "def timer(logger=None, format_str='{:.3f}[s]', prefix=None, suffix=None):\n",
    "    if prefix: format_str = str(prefix) + format_str\n",
    "    if suffix: format_str = format_str + str(suffix)\n",
    "    start = time()\n",
    "    yield\n",
    "    d = time() - start\n",
    "    out_str = format_str.format(d)\n",
    "    if logger:\n",
    "        logger.info(out_str)\n",
    "    else:\n",
    "        print(out_str)"
   ]
  },
  {
   "cell_type": "code",
   "execution_count": 292,
   "metadata": {},
   "outputs": [],
   "source": [
    "from tqdm import tqdm_notebook as tqdm\n",
    "\n",
    "def to_feature(input_df):\n",
    "    processors = [\n",
    "#         CreateContinuousFeatures,\n",
    "        CreateLabelencodingFeatures,\n",
    "        CreateOnehotEncodingFeatures,\n",
    "        CreateCountEncodingFeatures,\n",
    "    ]\n",
    "\n",
    "    out_df = pd.DataFrame()\n",
    "\n",
    "    for func in tqdm(processors, total=len(processors)):\n",
    "        with timer(prefix='create ' + func.__name__ + ' '):\n",
    "            _df = func(input_df)\n",
    "\n",
    "        assert len(_df) == len(input_df), func.__name__\n",
    "        out_df = pd.concat([out_df, _df], axis=1)\n",
    "\n",
    "    return out_df"
   ]
  },
  {
   "cell_type": "code",
   "execution_count": 293,
   "metadata": {},
   "outputs": [
    {
     "name": "stderr",
     "output_type": "stream",
     "text": [
      "<ipython-input-292-7b68d0469910>:13: TqdmDeprecationWarning: This function will be removed in tqdm==5.0.0\n",
      "Please use `tqdm.notebook.tqdm` instead of `tqdm.tqdm_notebook`\n",
      "  for func in tqdm(processors, total=len(processors)):\n"
     ]
    },
    {
     "data": {
      "application/vnd.jupyter.widget-view+json": {
       "model_id": "09686ff0ccee4150b2451980955a0706",
       "version_major": 2,
       "version_minor": 0
      },
      "text/plain": [
       "HBox(children=(HTML(value=''), FloatProgress(value=0.0, max=3.0), HTML(value='')))"
      ]
     },
     "metadata": {},
     "output_type": "display_data"
    },
    {
     "name": "stdout",
     "output_type": "stream",
     "text": [
      "create CreateLabelencodingFeatures 0.002[s]\n",
      "create CreateOnehotEncodingFeatures 0.011[s]\n",
      "create CreateCountEncodingFeatures 0.006[s]\n",
      "\n"
     ]
    },
    {
     "data": {
      "application/vnd.jupyter.widget-view+json": {
       "model_id": "7d86549219f74037aad9930145544076",
       "version_major": 2,
       "version_minor": 0
      },
      "text/plain": [
       "HBox(children=(HTML(value=''), FloatProgress(value=0.0, max=3.0), HTML(value='')))"
      ]
     },
     "metadata": {},
     "output_type": "display_data"
    },
    {
     "name": "stdout",
     "output_type": "stream",
     "text": [
      "create CreateLabelencodingFeatures 0.004[s]\n",
      "create CreateOnehotEncodingFeatures 0.012[s]\n",
      "create CreateCountEncodingFeatures 0.008[s]\n",
      "\n"
     ]
    }
   ],
   "source": [
    "train_feat_df = to_feature(train_df)\n",
    "test_feat_df = to_feature(test_df)"
   ]
  },
  {
   "cell_type": "code",
   "execution_count": 294,
   "metadata": {},
   "outputs": [
    {
     "data": {
      "text/html": [
       "<div>\n",
       "<style scoped>\n",
       "    .dataframe tbody tr th:only-of-type {\n",
       "        vertical-align: middle;\n",
       "    }\n",
       "\n",
       "    .dataframe tbody tr th {\n",
       "        vertical-align: top;\n",
       "    }\n",
       "\n",
       "    .dataframe thead th {\n",
       "        text-align: right;\n",
       "    }\n",
       "</style>\n",
       "<table border=\"1\" class=\"dataframe\">\n",
       "  <thead>\n",
       "    <tr style=\"text-align: right;\">\n",
       "      <th></th>\n",
       "      <th>CL_horsepower</th>\n",
       "      <th>OH_origin=1</th>\n",
       "      <th>OH_origin=2</th>\n",
       "      <th>OH_origin=3</th>\n",
       "      <th>OH_cylinders=6</th>\n",
       "      <th>OH_cylinders=8</th>\n",
       "      <th>OH_cylinders=4</th>\n",
       "      <th>OH_model year=80</th>\n",
       "      <th>OH_model year=72</th>\n",
       "      <th>OH_model year=79</th>\n",
       "      <th>...</th>\n",
       "      <th>OH_car name=plymouth champ</th>\n",
       "      <th>OH_car name=ford gran torino (sw)</th>\n",
       "      <th>OH_car name=toyota corolla</th>\n",
       "      <th>OH_car name=datsun 1200</th>\n",
       "      <th>OH_car name=dodge coronet custom</th>\n",
       "      <th>OH_car name=volkswagen jetta</th>\n",
       "      <th>OH_car name=dodge omni</th>\n",
       "      <th>CE_displacement</th>\n",
       "      <th>CE_weight</th>\n",
       "      <th>CE_acceleration</th>\n",
       "    </tr>\n",
       "  </thead>\n",
       "  <tbody>\n",
       "    <tr>\n",
       "      <th>0</th>\n",
       "      <td>3</td>\n",
       "      <td>1</td>\n",
       "      <td>0</td>\n",
       "      <td>0</td>\n",
       "      <td>1</td>\n",
       "      <td>0</td>\n",
       "      <td>0</td>\n",
       "      <td>1</td>\n",
       "      <td>0</td>\n",
       "      <td>0</td>\n",
       "      <td>...</td>\n",
       "      <td>0</td>\n",
       "      <td>0</td>\n",
       "      <td>0</td>\n",
       "      <td>0</td>\n",
       "      <td>0</td>\n",
       "      <td>0</td>\n",
       "      <td>0</td>\n",
       "      <td>65</td>\n",
       "      <td>16</td>\n",
       "      <td>1</td>\n",
       "    </tr>\n",
       "    <tr>\n",
       "      <th>1</th>\n",
       "      <td>14</td>\n",
       "      <td>1</td>\n",
       "      <td>0</td>\n",
       "      <td>0</td>\n",
       "      <td>0</td>\n",
       "      <td>1</td>\n",
       "      <td>0</td>\n",
       "      <td>0</td>\n",
       "      <td>1</td>\n",
       "      <td>0</td>\n",
       "      <td>...</td>\n",
       "      <td>0</td>\n",
       "      <td>0</td>\n",
       "      <td>0</td>\n",
       "      <td>0</td>\n",
       "      <td>0</td>\n",
       "      <td>0</td>\n",
       "      <td>0</td>\n",
       "      <td>20</td>\n",
       "      <td>13</td>\n",
       "      <td>1</td>\n",
       "    </tr>\n",
       "    <tr>\n",
       "      <th>2</th>\n",
       "      <td>11</td>\n",
       "      <td>1</td>\n",
       "      <td>0</td>\n",
       "      <td>0</td>\n",
       "      <td>0</td>\n",
       "      <td>1</td>\n",
       "      <td>0</td>\n",
       "      <td>0</td>\n",
       "      <td>0</td>\n",
       "      <td>1</td>\n",
       "      <td>...</td>\n",
       "      <td>0</td>\n",
       "      <td>0</td>\n",
       "      <td>0</td>\n",
       "      <td>0</td>\n",
       "      <td>0</td>\n",
       "      <td>0</td>\n",
       "      <td>0</td>\n",
       "      <td>38</td>\n",
       "      <td>22</td>\n",
       "      <td>1</td>\n",
       "    </tr>\n",
       "    <tr>\n",
       "      <th>3</th>\n",
       "      <td>33</td>\n",
       "      <td>1</td>\n",
       "      <td>0</td>\n",
       "      <td>0</td>\n",
       "      <td>1</td>\n",
       "      <td>0</td>\n",
       "      <td>0</td>\n",
       "      <td>0</td>\n",
       "      <td>0</td>\n",
       "      <td>0</td>\n",
       "      <td>...</td>\n",
       "      <td>0</td>\n",
       "      <td>0</td>\n",
       "      <td>0</td>\n",
       "      <td>0</td>\n",
       "      <td>0</td>\n",
       "      <td>0</td>\n",
       "      <td>0</td>\n",
       "      <td>30</td>\n",
       "      <td>10</td>\n",
       "      <td>1</td>\n",
       "    </tr>\n",
       "    <tr>\n",
       "      <th>4</th>\n",
       "      <td>17</td>\n",
       "      <td>1</td>\n",
       "      <td>0</td>\n",
       "      <td>0</td>\n",
       "      <td>0</td>\n",
       "      <td>1</td>\n",
       "      <td>0</td>\n",
       "      <td>0</td>\n",
       "      <td>0</td>\n",
       "      <td>0</td>\n",
       "      <td>...</td>\n",
       "      <td>0</td>\n",
       "      <td>0</td>\n",
       "      <td>0</td>\n",
       "      <td>0</td>\n",
       "      <td>0</td>\n",
       "      <td>0</td>\n",
       "      <td>0</td>\n",
       "      <td>15</td>\n",
       "      <td>14</td>\n",
       "      <td>1</td>\n",
       "    </tr>\n",
       "  </tbody>\n",
       "</table>\n",
       "<p>5 rows × 100 columns</p>\n",
       "</div>"
      ],
      "text/plain": [
       "   CL_horsepower  OH_origin=1  OH_origin=2  OH_origin=3  OH_cylinders=6  \\\n",
       "0              3            1            0            0               1   \n",
       "1             14            1            0            0               0   \n",
       "2             11            1            0            0               0   \n",
       "3             33            1            0            0               1   \n",
       "4             17            1            0            0               0   \n",
       "\n",
       "   OH_cylinders=8  OH_cylinders=4  OH_model year=80  OH_model year=72  \\\n",
       "0               0               0                 1                 0   \n",
       "1               1               0                 0                 1   \n",
       "2               1               0                 0                 0   \n",
       "3               0               0                 0                 0   \n",
       "4               1               0                 0                 0   \n",
       "\n",
       "   OH_model year=79  ...  OH_car name=plymouth champ  \\\n",
       "0                 0  ...                           0   \n",
       "1                 0  ...                           0   \n",
       "2                 1  ...                           0   \n",
       "3                 0  ...                           0   \n",
       "4                 0  ...                           0   \n",
       "\n",
       "   OH_car name=ford gran torino (sw)  OH_car name=toyota corolla  \\\n",
       "0                                  0                           0   \n",
       "1                                  0                           0   \n",
       "2                                  0                           0   \n",
       "3                                  0                           0   \n",
       "4                                  0                           0   \n",
       "\n",
       "   OH_car name=datsun 1200  OH_car name=dodge coronet custom  \\\n",
       "0                        0                                 0   \n",
       "1                        0                                 0   \n",
       "2                        0                                 0   \n",
       "3                        0                                 0   \n",
       "4                        0                                 0   \n",
       "\n",
       "   OH_car name=volkswagen jetta  OH_car name=dodge omni  CE_displacement  \\\n",
       "0                             0                       0               65   \n",
       "1                             0                       0               20   \n",
       "2                             0                       0               38   \n",
       "3                             0                       0               30   \n",
       "4                             0                       0               15   \n",
       "\n",
       "   CE_weight  CE_acceleration  \n",
       "0         16                1  \n",
       "1         13                1  \n",
       "2         22                1  \n",
       "3         10                1  \n",
       "4         14                1  \n",
       "\n",
       "[5 rows x 100 columns]"
      ]
     },
     "execution_count": 294,
     "metadata": {},
     "output_type": "execute_result"
    }
   ],
   "source": [
    "train_feat_df.head()"
   ]
  },
  {
   "cell_type": "code",
   "execution_count": 301,
   "metadata": {},
   "outputs": [
    {
     "name": "stdout",
     "output_type": "stream",
     "text": [
      "400\n",
      "100\n"
     ]
    }
   ],
   "source": [
    "from sklearn.model_selection import StratifiedKFold, train_test_split\n",
    "\n",
    "X_train, X_test, y_train, y_test = train_test_split(\n",
    "    train_feat_df, train_df['mpg'], test_size=0.2, random_state=0\n",
    ")\n",
    "print(len(X_train))\n",
    "print(len(X_test))\n",
    "K_fold = StratifiedKFold(n_splits=5, shuffle=True,  random_state=0)"
   ]
  },
  {
   "cell_type": "code",
   "execution_count": 296,
   "metadata": {},
   "outputs": [
    {
     "name": "stdout",
     "output_type": "stream",
     "text": [
      "Training until validation scores don't improve for 1000 rounds\n",
      "[50]\tvalid_0's rmse: 3.41262\n",
      "[100]\tvalid_0's rmse: 3.17197\n",
      "[150]\tvalid_0's rmse: 3.14887\n",
      "[200]\tvalid_0's rmse: 3.13976\n",
      "[250]\tvalid_0's rmse: 3.15979\n",
      "[300]\tvalid_0's rmse: 3.17634\n",
      "[350]\tvalid_0's rmse: 3.16711\n",
      "[400]\tvalid_0's rmse: 3.173\n",
      "[450]\tvalid_0's rmse: 3.17849\n",
      "[500]\tvalid_0's rmse: 3.18835\n",
      "[550]\tvalid_0's rmse: 3.18959\n",
      "[600]\tvalid_0's rmse: 3.19982\n",
      "[650]\tvalid_0's rmse: 3.2056\n",
      "[700]\tvalid_0's rmse: 3.20596\n",
      "[750]\tvalid_0's rmse: 3.20825\n",
      "[800]\tvalid_0's rmse: 3.21191\n",
      "[850]\tvalid_0's rmse: 3.21671\n",
      "[900]\tvalid_0's rmse: 3.21951\n",
      "[950]\tvalid_0's rmse: 3.2246\n",
      "[1000]\tvalid_0's rmse: 3.23072\n",
      "[1050]\tvalid_0's rmse: 3.23725\n",
      "[1100]\tvalid_0's rmse: 3.24245\n",
      "[1150]\tvalid_0's rmse: 3.25193\n",
      "[1200]\tvalid_0's rmse: 3.25546\n",
      "Early stopping, best iteration is:\n",
      "[213]\tvalid_0's rmse: 3.13277\n"
     ]
    }
   ],
   "source": [
    "import lightgbm as lgb\n",
    "\n",
    "params = {'metric': 'rmse',\n",
    "          'max_depth' : 30}\n",
    "lgb_train = lgb.Dataset(X_train, y_train)\n",
    "lgb_eval = lgb.Dataset(X_test, y_test)\n",
    "\n",
    "model = lgb.train(params,\n",
    "                  lgb_train,\n",
    "                  valid_sets = lgb_eval,\n",
    "                  num_boost_round = 10000,\n",
    "                  early_stopping_rounds=1000,\n",
    "                  verbose_eval=50)\n",
    "\n",
    "pred = model.predict(X_test)"
   ]
  },
  {
   "cell_type": "code",
   "execution_count": 297,
   "metadata": {},
   "outputs": [],
   "source": [
    "#関数の処理で必要なライブラリ\n",
    "from sklearn.metrics import mean_squared_error\n",
    "from sklearn.metrics import r2_score\n",
    " \n",
    "#予測値と正解値を描写する関数\n",
    "def Pred_map(pred_df):\n",
    "    RMSE = np.sqrt(mean_squared_error(pred_df['true'], pred_df['pred']))\n",
    "    R2 = r2_score(pred_df['true'], pred_df['pred']) \n",
    "    plt.figure(figsize=(8,8))\n",
    "    ax = plt.subplot(111)\n",
    "    ax.scatter('true', 'pred', data=pred_df)\n",
    "    ax.set_xlabel('True Value', fontsize=15)\n",
    "    ax.set_ylabel('Pred Value', fontsize=15)\n",
    "    ax.set_xlim(pred_df.min().min()-0.1 , pred_df.max().max()+0.1)\n",
    "    ax.set_ylim(pred_df.min().min()-0.1 , pred_df.max().max()+0.1)\n",
    "    x = np.linspace(pred_df.min().min()-0.1, pred_df.max().max()+0.1, 2)\n",
    "    y = x\n",
    "    ax.plot(x,y,'r-')\n",
    "    plt.text(0.1, 0.9, 'RMSE = {}'.format(str(round(RMSE, 5))), transform=ax.transAxes, fontsize=15)\n",
    "    plt.text(0.1, 0.8, 'R^2 = {}'.format(str(round(R2, 5))), transform=ax.transAxes, fontsize=15)"
   ]
  },
  {
   "cell_type": "code",
   "execution_count": 298,
   "metadata": {},
   "outputs": [],
   "source": [
    "pred_df = pd.concat([y_test.reset_index(drop=True), pd.Series(pred)], axis=1)\n",
    "pred_df.columns = ['true', 'pred']"
   ]
  },
  {
   "cell_type": "code",
   "execution_count": 299,
   "metadata": {},
   "outputs": [
    {
     "data": {
      "text/html": [
       "<div>\n",
       "<style scoped>\n",
       "    .dataframe tbody tr th:only-of-type {\n",
       "        vertical-align: middle;\n",
       "    }\n",
       "\n",
       "    .dataframe tbody tr th {\n",
       "        vertical-align: top;\n",
       "    }\n",
       "\n",
       "    .dataframe thead th {\n",
       "        text-align: right;\n",
       "    }\n",
       "</style>\n",
       "<table border=\"1\" class=\"dataframe\">\n",
       "  <thead>\n",
       "    <tr style=\"text-align: right;\">\n",
       "      <th></th>\n",
       "      <th>true</th>\n",
       "      <th>pred</th>\n",
       "    </tr>\n",
       "  </thead>\n",
       "  <tbody>\n",
       "    <tr>\n",
       "      <th>0</th>\n",
       "      <td>22.814</td>\n",
       "      <td>22.176</td>\n",
       "    </tr>\n",
       "    <tr>\n",
       "      <th>1</th>\n",
       "      <td>17.686</td>\n",
       "      <td>18.494</td>\n",
       "    </tr>\n",
       "    <tr>\n",
       "      <th>2</th>\n",
       "      <td>33.528</td>\n",
       "      <td>35.062</td>\n",
       "    </tr>\n",
       "    <tr>\n",
       "      <th>3</th>\n",
       "      <td>26.606</td>\n",
       "      <td>22.802</td>\n",
       "    </tr>\n",
       "    <tr>\n",
       "      <th>4</th>\n",
       "      <td>22.913</td>\n",
       "      <td>22.018</td>\n",
       "    </tr>\n",
       "  </tbody>\n",
       "</table>\n",
       "</div>"
      ],
      "text/plain": [
       "     true    pred\n",
       "0  22.814  22.176\n",
       "1  17.686  18.494\n",
       "2  33.528  35.062\n",
       "3  26.606  22.802\n",
       "4  22.913  22.018"
      ]
     },
     "execution_count": 299,
     "metadata": {},
     "output_type": "execute_result"
    }
   ],
   "source": [
    "pred_df.head()"
   ]
  },
  {
   "cell_type": "code",
   "execution_count": 300,
   "metadata": {},
   "outputs": [
    {
     "data": {
      "image/png": "[encoded data removed]",
      "text/plain": [
       "<Figure size 576x576 with 1 Axes>"
      ]
     },
     "metadata": {
      "needs_background": "light"
     },
     "output_type": "display_data"
    }
   ],
   "source": [
    "Pred_map(pred_df)"
   ]
  },
  {
   "cell_type": "code",
   "execution_count": 260,
   "metadata": {},
   "outputs": [
    {
     "data": {
      "text/plain": [
       "<AxesSubplot:title={'center':'Feature importance'}, xlabel='Feature importance', ylabel='Features'>"
      ]
     },
     "execution_count": 260,
     "metadata": {},
     "output_type": "execute_result"
    },
    {
     "data": {
      "image/png": "[encoded data removed]",
      "text/plain": [
       "<Figure size 576x1152 with 1 Axes>"
      ]
     },
     "metadata": {
      "needs_background": "light"
     },
     "output_type": "display_data"
    }
   ],
   "source": [
    "lgb.plot_importance(model, height=0.5, figsize=(8,16))"
   ]
  },
  {
   "cell_type": "code",
   "execution_count": 265,
   "metadata": {},
   "outputs": [
    {
     "data": {
      "text/html": [
       "<div>\n",
       "<style scoped>\n",
       "    .dataframe tbody tr th:only-of-type {\n",
       "        vertical-align: middle;\n",
       "    }\n",
       "\n",
       "    .dataframe tbody tr th {\n",
       "        vertical-align: top;\n",
       "    }\n",
       "\n",
       "    .dataframe thead th {\n",
       "        text-align: right;\n",
       "    }\n",
       "</style>\n",
       "<table border=\"1\" class=\"dataframe\">\n",
       "  <thead>\n",
       "    <tr style=\"text-align: right;\">\n",
       "      <th></th>\n",
       "      <th>model year</th>\n",
       "      <th>CL_horsepower</th>\n",
       "      <th>CL_car name</th>\n",
       "      <th>OH_origin=1</th>\n",
       "      <th>OH_origin=2</th>\n",
       "      <th>OH_origin=3</th>\n",
       "      <th>OH_cylinders=6</th>\n",
       "      <th>OH_cylinders=8</th>\n",
       "      <th>OH_cylinders=4</th>\n",
       "      <th>CE_displacement</th>\n",
       "      <th>CE_weight</th>\n",
       "      <th>CE_acceleration</th>\n",
       "    </tr>\n",
       "  </thead>\n",
       "  <tbody>\n",
       "    <tr>\n",
       "      <th>0</th>\n",
       "      <td>80</td>\n",
       "      <td>3</td>\n",
       "      <td>29</td>\n",
       "      <td>1</td>\n",
       "      <td>0</td>\n",
       "      <td>0</td>\n",
       "      <td>1</td>\n",
       "      <td>0</td>\n",
       "      <td>0</td>\n",
       "      <td>65</td>\n",
       "      <td>16</td>\n",
       "      <td>1</td>\n",
       "    </tr>\n",
       "    <tr>\n",
       "      <th>1</th>\n",
       "      <td>72</td>\n",
       "      <td>14</td>\n",
       "      <td>35</td>\n",
       "      <td>1</td>\n",
       "      <td>0</td>\n",
       "      <td>0</td>\n",
       "      <td>0</td>\n",
       "      <td>1</td>\n",
       "      <td>0</td>\n",
       "      <td>20</td>\n",
       "      <td>13</td>\n",
       "      <td>1</td>\n",
       "    </tr>\n",
       "    <tr>\n",
       "      <th>2</th>\n",
       "      <td>79</td>\n",
       "      <td>11</td>\n",
       "      <td>51</td>\n",
       "      <td>1</td>\n",
       "      <td>0</td>\n",
       "      <td>0</td>\n",
       "      <td>0</td>\n",
       "      <td>1</td>\n",
       "      <td>0</td>\n",
       "      <td>38</td>\n",
       "      <td>22</td>\n",
       "      <td>1</td>\n",
       "    </tr>\n",
       "    <tr>\n",
       "      <th>3</th>\n",
       "      <td>71</td>\n",
       "      <td>33</td>\n",
       "      <td>62</td>\n",
       "      <td>1</td>\n",
       "      <td>0</td>\n",
       "      <td>0</td>\n",
       "      <td>1</td>\n",
       "      <td>0</td>\n",
       "      <td>0</td>\n",
       "      <td>30</td>\n",
       "      <td>10</td>\n",
       "      <td>1</td>\n",
       "    </tr>\n",
       "    <tr>\n",
       "      <th>4</th>\n",
       "      <td>70</td>\n",
       "      <td>17</td>\n",
       "      <td>40</td>\n",
       "      <td>1</td>\n",
       "      <td>0</td>\n",
       "      <td>0</td>\n",
       "      <td>0</td>\n",
       "      <td>1</td>\n",
       "      <td>0</td>\n",
       "      <td>15</td>\n",
       "      <td>14</td>\n",
       "      <td>1</td>\n",
       "    </tr>\n",
       "  </tbody>\n",
       "</table>\n",
       "</div>"
      ],
      "text/plain": [
       "   model year  CL_horsepower  CL_car name  OH_origin=1  OH_origin=2  \\\n",
       "0          80              3           29            1            0   \n",
       "1          72             14           35            1            0   \n",
       "2          79             11           51            1            0   \n",
       "3          71             33           62            1            0   \n",
       "4          70             17           40            1            0   \n",
       "\n",
       "   OH_origin=3  OH_cylinders=6  OH_cylinders=8  OH_cylinders=4  \\\n",
       "0            0               1               0               0   \n",
       "1            0               0               1               0   \n",
       "2            0               0               1               0   \n",
       "3            0               1               0               0   \n",
       "4            0               0               1               0   \n",
       "\n",
       "   CE_displacement  CE_weight  CE_acceleration  \n",
       "0               65         16                1  \n",
       "1               20         13                1  \n",
       "2               38         22                1  \n",
       "3               30         10                1  \n",
       "4               15         14                1  "
      ]
     },
     "execution_count": 265,
     "metadata": {},
     "output_type": "execute_result"
    }
   ],
   "source": [
    "train_feat_df.head()"
   ]
  },
  {
   "cell_type": "code",
   "execution_count": 268,
   "metadata": {},
   "outputs": [],
   "source": [
    "pred = model.predict(test_feat_df)\n",
    "\n",
    "pred_df = pd.DataFrame(pred, index = test_df.id)"
   ]
  },
  {
   "cell_type": "code",
   "execution_count": 269,
   "metadata": {},
   "outputs": [
    {
     "data": {
      "text/html": [
       "<div>\n",
       "<style scoped>\n",
       "    .dataframe tbody tr th:only-of-type {\n",
       "        vertical-align: middle;\n",
       "    }\n",
       "\n",
       "    .dataframe tbody tr th {\n",
       "        vertical-align: top;\n",
       "    }\n",
       "\n",
       "    .dataframe thead th {\n",
       "        text-align: right;\n",
       "    }\n",
       "</style>\n",
       "<table border=\"1\" class=\"dataframe\">\n",
       "  <thead>\n",
       "    <tr style=\"text-align: right;\">\n",
       "      <th></th>\n",
       "      <th>0</th>\n",
       "    </tr>\n",
       "    <tr>\n",
       "      <th>id</th>\n",
       "      <th></th>\n",
       "    </tr>\n",
       "  </thead>\n",
       "  <tbody>\n",
       "    <tr>\n",
       "      <th>1</th>\n",
       "      <td>21.778</td>\n",
       "    </tr>\n",
       "    <tr>\n",
       "      <th>2</th>\n",
       "      <td>22.879</td>\n",
       "    </tr>\n",
       "    <tr>\n",
       "      <th>5</th>\n",
       "      <td>21.544</td>\n",
       "    </tr>\n",
       "    <tr>\n",
       "      <th>6</th>\n",
       "      <td>20.736</td>\n",
       "    </tr>\n",
       "    <tr>\n",
       "      <th>8</th>\n",
       "      <td>19.678</td>\n",
       "    </tr>\n",
       "    <tr>\n",
       "      <th>...</th>\n",
       "      <td>...</td>\n",
       "    </tr>\n",
       "    <tr>\n",
       "      <th>992</th>\n",
       "      <td>20.844</td>\n",
       "    </tr>\n",
       "    <tr>\n",
       "      <th>993</th>\n",
       "      <td>23.600</td>\n",
       "    </tr>\n",
       "    <tr>\n",
       "      <th>996</th>\n",
       "      <td>21.527</td>\n",
       "    </tr>\n",
       "    <tr>\n",
       "      <th>998</th>\n",
       "      <td>21.544</td>\n",
       "    </tr>\n",
       "    <tr>\n",
       "      <th>999</th>\n",
       "      <td>19.725</td>\n",
       "    </tr>\n",
       "  </tbody>\n",
       "</table>\n",
       "<p>500 rows × 1 columns</p>\n",
       "</div>"
      ],
      "text/plain": [
       "          0\n",
       "id         \n",
       "1    21.778\n",
       "2    22.879\n",
       "5    21.544\n",
       "6    20.736\n",
       "8    19.678\n",
       "..      ...\n",
       "992  20.844\n",
       "993  23.600\n",
       "996  21.527\n",
       "998  21.544\n",
       "999  19.725\n",
       "\n",
       "[500 rows x 1 columns]"
      ]
     },
     "execution_count": 269,
     "metadata": {},
     "output_type": "execute_result"
    }
   ],
   "source": [
    "pred_df"
   ]
  },
  {
   "cell_type": "code",
   "execution_count": 270,
   "metadata": {},
   "outputs": [],
   "source": [
    "pred_df.to_csv('ans01.csv', header=False, index=True)"
   ]
  },
  {
   "cell_type": "markdown",
   "metadata": {},
   "source": [
    "## CountEncoding "
   ]
  },
  {
   "cell_type": "code",
   "execution_count": null,
   "metadata": {},
   "outputs": [],
   "source": [
    "def create_uid_aggregation_feature(input_df: pd.DataFrame) -> pd.DataFrame:\n",
    "    \"\"\"uid に関する aggregation 特徴量\"\"\"\n",
    "\n",
    "    # note: \n",
    "    #   この集約はとても重たい処理になりがちです(特にnunique). しかも train / test で共通の処理で毎回 call されるため無駄です\n",
    "    #   例えば別のコードで `_agg_df` だけ作ってローカルに保存するコードをかいておいて\n",
    "    #   実際に特徴量を作成するときにはそちらを読み込む用にするなどすると高速化になります\n",
    "    _agg_df = pd.concat([\n",
    "        whole_df.groupby('uid')['last_login_interval'].agg(['mean', 'std']).add_prefix('last_login_interval_'),\n",
    "        whole_df.groupby('uid')['advertiser_id'].nunique()\n",
    "    ], axis=1)\n",
    "\n",
    "    out_df = pd.merge(input_df['uid'], _agg_df, on='uid', how='left')\n",
    "    out_df = out_df.drop(columns='uid').add_suffix('_by_uid')\n",
    "    return out_df"
   ]
  },
  {
   "cell_type": "code",
   "execution_count": null,
   "metadata": {},
   "outputs": [],
   "source": []
  },
  {
   "cell_type": "code",
   "execution_count": null,
   "metadata": {},
   "outputs": [],
   "source": []
  },
  {
   "cell_type": "code",
   "execution_count": null,
   "metadata": {},
   "outputs": [],
   "source": []
  }
 ],
 "metadata": {
  "kernelspec": {
   "display_name": "DataAnalysis",
   "language": "python",
   "name": "dataanalysis"
  },
  "language_info": {
   "codemirror_mode": {
    "name": "ipython",
    "version": 3
   },
   "file_extension": ".py",
   "mimetype": "text/x-python",
   "name": "python",
   "nbconvert_exporter": "python",
   "pygments_lexer": "ipython3",
   "version": "3.8.5"
  }
 },
 "nbformat": 4,
 "nbformat_minor": 4
}
